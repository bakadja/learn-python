# prompt: genrearte a hello world code

print("Hello, calio")
